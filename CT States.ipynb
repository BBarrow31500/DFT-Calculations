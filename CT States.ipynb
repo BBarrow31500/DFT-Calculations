{
 "cells": [
  {
   "cell_type": "markdown",
   "metadata": {},
   "source": [
    "## Optimization CT States"
   ]
  },
  {
   "cell_type": "code",
   "execution_count": 5,
   "metadata": {},
   "outputs": [],
   "source": [
    "import os\n",
    "import numpy as np"
   ]
  },
  {
   "cell_type": "code",
   "execution_count": 65,
   "metadata": {},
   "outputs": [
    {
     "name": "stdout",
     "output_type": "stream",
     "text": [
      "[104.99, 101.18, 102.59, 95.03, 95.04, 93.22, 91.56, 92.98, 91.01, 100.44, 87.77, 78.13, 69.56, 67.36, 22.11, 20.31, 20.03, 38.93, 35.8, 49.29, 46.12, 87.98, 62.63, 23.98, 25.34, 31.96, 87.21, 123.51, 124.34, 51.27, 32.18, 28.93]\n"
     ]
    }
   ],
   "source": [
    "#Open .out file and read lines\n",
    "data_file=os.path.join('Ag', 'DFT', 'Solvent', 'AllElectron', 'Optimization', 'meta', 'F_Opt.out')\n",
    "data=open(data_file)\n",
    "data=data.readlines()\n",
    "#Go through lines of the full file and obtain line number\n",
    "#Use unique keywords written in the code to isolate relevant data\n",
    "for linenum, line in enumerate(data):\n",
    "    if 'from one for' in line:\n",
    "        CT_start=linenum+5\n",
    "    if 'The bond energy is' in line:\n",
    "        CT_end=linenum-10\n",
    "CT_data=data[CT_start:CT_end]\n",
    "CT_length=len(CT_data)\n",
    "#Set empty arrays for iterative data\n",
    "#Looking to compare energy level with total contribution from silver and benzenthiol fragment contribution\n",
    "Ag_con=[]\n",
    "Mol_con=[]\n",
    "sum_index=[]\n",
    "energy=[]\n",
    "contributions=[]\n",
    "twenty_cent=[]\n",
    "energy_level=[]\n",
    "ind=1\n",
    "#loop through data lines, split each character\n",
    "#For each character search for only 'A' as it indicates the line with the energy level and start of contribution data\n",
    "#Record line number in iterative array to index the start of the data sum\n",
    "#Make iterative array of the energy value of each level\n",
    "for num in range(0,CT_length):\n",
    "    line = CT_data[num].split()\n",
    "    for i in line:\n",
    "        if 'A' in i and 'Ag' not in i:\n",
    "            sum_index.append(num)\n",
    "            energy.append(line[0])\n",
    "#Loop through data again to search for percentage contribution and turn percents into floats\n",
    "for num in range(0,CT_length):\n",
    "    line = CT_data[num].split()\n",
    "    for i in line:\n",
    "        if '%' in i:\n",
    "            per_con=float(i[:-1])\n",
    "            per_con=abs(per_con)\n",
    "#Record last item in array, which gives the atom fragment for each contribution\n",
    "    atom=line[-1]\n",
    "#If atom is silver, create interative array of that contribution\n",
    "    if atom=='Ag':\n",
    "        Ag=per_con\n",
    "        Ag_con.append(Ag)\n",
    "#If atom is not silver, create iterative array of those contributions\n",
    "    else:\n",
    "        Mol=per_con\n",
    "        Mol_con.append(Mol)\n",
    "#If the line of data matches the line corresponding to the start of the contributions for each energy level\n",
    "    if num==sum_index[ind]-1:\n",
    "#Sum each contribution with however many floats are in the array for the current iteration of the for loop\n",
    "#Create array with each sum at the corresponding energy level\n",
    "        Ag_sum=sum(Ag_con)\n",
    "        Mol_sum=sum(Mol_con)\n",
    "        cons=F'{energy[ind-1]} | {Mol_sum:.3f} | {Ag_sum:.3f}'\n",
    "        contributions.append(cons)\n",
    "#Clear the array after summing it to start data for next energy level\n",
    "        Ag_con=[]\n",
    "        Mol_con=[]\n",
    "#Increases the index for the array containing the line for energy levels\n",
    "#Only execute if it not the last energy level to avoid over indexing\n",
    "        if num!=sum_index[-1]-1:\n",
    "            ind=ind+1\n",
    "#Isolate molecular contributions\n",
    "Con_length=len(contributions)\n",
    "for level, lin in enumerate(contributions):\n",
    "    lin_split=lin.split()\n",
    "    percent=float(lin_split[2])\n",
    "    if percent>=20:\n",
    "        twenty_cent.append(percent)\n",
    "        energy_level.append(lin_split[0])\n",
    "if"
   ]
  },
  {
   "cell_type": "code",
   "execution_count": null,
   "metadata": {},
   "outputs": [],
   "source": []
  }
 ],
 "metadata": {
  "kernelspec": {
   "display_name": "Python 3",
   "language": "python",
   "name": "python3"
  },
  "language_info": {
   "codemirror_mode": {
    "name": "ipython",
    "version": 3
   },
   "file_extension": ".py",
   "mimetype": "text/x-python",
   "name": "python",
   "nbconvert_exporter": "python",
   "pygments_lexer": "ipython3",
   "version": "3.7.3"
  }
 },
 "nbformat": 4,
 "nbformat_minor": 2
}
